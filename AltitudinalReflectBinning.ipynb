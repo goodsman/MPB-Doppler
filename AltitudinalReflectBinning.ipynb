{
 "cells": [
  {
   "cell_type": "markdown",
   "metadata": {},
   "source": [
    "# Binning reflectivity by height\n",
    "\n",
    "I write a function that will take a raster image of values of interest and a raster image of altitudes above the ground as input and will return the reflectivity binned by height."
   ]
  },
  {
   "cell_type": "code",
   "execution_count": 8,
   "metadata": {},
   "outputs": [],
   "source": [
    "import rasterio as rast\n",
    "from rasterio.plot import show\n",
    "from rasterio.transform import Affine\n",
    "import numpy as np\n",
    "import matplotlib.pyplot as pl\n",
    "import matplotlib as mpl\n",
    "import os\n",
    "\n",
    "try:\n",
    "    get_ipython().run_line_magic(\"matplotlib inline\")\n",
    "except:\n",
    "    pl.ion()"
   ]
  },
  {
   "cell_type": "code",
   "execution_count": 10,
   "metadata": {},
   "outputs": [],
   "source": [
    "def BinnedRefl(altrast1, dBZrast1, lower1, upper1, width1):\n",
    "    \"\"\"This function takes an altitude raster, a dBZ raster, and some scalar arguments that dictate how the altitudinal bins are set up: \n",
    "    lower1 is the cntre of the lowest bin, upper1 is the centre of the highest bin, and width in the bin width. Note that when upper1 - lower1\n",
    "    is divided by width1, we should obtain an integer number of bins. If this is not the case, the algorithm makes it so.\n",
    "    \n",
    "    Note also that the altrast1 and dBZrast1 arrays must have the same dimension, otherwise this won't work\"\"\"\n",
    "    # First replacing values less than or equal to -32.0 in the reflectivity array with nan\n",
    "    dBZrast1[dBZrast1 <= -32.0] = np.nan\n",
    "    \n",
    "    nbins = int(np.floor((upper1 - lower1)/width1)) # calculating the number of bins\n",
    "    bincentres = np.linspace(lower1, upper1, num = nbins + 1) # bin centres\n",
    "    upperarray = np.array(upper1 + np.floor(width1/2)) # an array for only the last value\n",
    "    binbounds = np.hstack((bincentres - np.floor(width1/2), upperarray)) # bounds on all bins (lower and upper)\n",
    "    digitized = np.digitize(altrast1, binbounds) # extracting indices\n",
    "    dBZ_means = [np.nanmean(dBZrast1[digitized == i]) for i in range(1, len(binbounds))]\n",
    "    return(bincentres, dBZ_means)"
   ]
  },
  {
   "cell_type": "markdown",
   "metadata": {},
   "source": [
    "Reading in some reflectivity data to try the function."
   ]
  },
  {
   "cell_type": "code",
   "execution_count": 11,
   "metadata": {},
   "outputs": [],
   "source": [
    "indir1 = \"/home/devingoodsman/Desktop/MPB Doppler/July262005Brasters/200507262150~~DOPVOL1_B:URP:XPG:RADAR:IRIS\"\n",
    "r1 = rast.open(indir1)\n",
    "dBZ1 = r1.read(1)\n",
    "r1.close()"
   ]
  },
  {
   "cell_type": "markdown",
   "metadata": {},
   "source": [
    "Reading in the altitudinal data:"
   ]
  },
  {
   "cell_type": "code",
   "execution_count": 12,
   "metadata": {},
   "outputs": [],
   "source": [
    "indir2 = \"/home/devingoodsman/Desktop/MPB Doppler/July262005Brasters/BeamAltAboveGround.tif\"\n",
    "r2 = rast.open(indir2)\n",
    "Altrast = r2.read(1)\n",
    "r2.close()"
   ]
  },
  {
   "cell_type": "markdown",
   "metadata": {},
   "source": [
    "Checking dimensionality"
   ]
  },
  {
   "cell_type": "code",
   "execution_count": 13,
   "metadata": {},
   "outputs": [
    {
     "name": "stdout",
     "output_type": "stream",
     "text": [
      "(1000, 1000)\n",
      "(1000, 1000)\n"
     ]
    }
   ],
   "source": [
    "print(dBZ1.shape)\n",
    "print(Altrast.shape)"
   ]
  },
  {
   "cell_type": "markdown",
   "metadata": {},
   "source": [
    "Trying out the binning function"
   ]
  },
  {
   "cell_type": "code",
   "execution_count": 14,
   "metadata": {},
   "outputs": [],
   "source": [
    "altbins, reflects = BinnedRefl(altrast1 = Altrast, dBZrast1 = dBZ1, lower1 = 120, upper1 = 720, width1 = 150)"
   ]
  },
  {
   "cell_type": "markdown",
   "metadata": {},
   "source": [
    "Now plotting to see if results are what we would expect."
   ]
  },
  {
   "cell_type": "code",
   "execution_count": 15,
   "metadata": {},
   "outputs": [
    {
     "data": {
      "text/plain": [
       "Text(0, 0.5, 'reflectivity (logarithmic scale)')"
      ]
     },
     "execution_count": 15,
     "metadata": {},
     "output_type": "execute_result"
    },
    {
     "data": {
      "image/png": "[encoded data removed]",
      "text/plain": [
       "<Figure size 720x720 with 1 Axes>"
      ]
     },
     "metadata": {
      "needs_background": "light"
     },
     "output_type": "display_data"
    }
   ],
   "source": [
    "fig = pl.figure(figsize=(10, 10))\n",
    "pl.scatter(altbins, reflects)\n",
    "pl.xlabel(\"altitude above ground (m)\")\n",
    "pl.ylabel(\"reflectivity (logarithmic scale)\")"
   ]
  },
  {
   "cell_type": "markdown",
   "metadata": {},
   "source": [
    "It is evident that in the raw (unmasked data), we don't see the expected negative linear relationship between average dBZ and altitude."
   ]
  }
 ],
 "metadata": {
  "kernelspec": {
   "display_name": "Python 3.10.5 ('wradlib')",
   "language": "python",
   "name": "python3"
  },
  "language_info": {
   "codemirror_mode": {
    "name": "ipython",
    "version": 3
   },
   "file_extension": ".py",
   "mimetype": "text/x-python",
   "name": "python",
   "nbconvert_exporter": "python",
   "pygments_lexer": "ipython3",
   "version": "3.10.5"
  },
  "orig_nbformat": 4,
  "vscode": {
   "interpreter": {
    "hash": "6c5735d42f906bb3b211c7dc5153c31741825ba19b973879797a913ea8fc800f"
   }
  }
 },
 "nbformat": 4,
 "nbformat_minor": 2
}
